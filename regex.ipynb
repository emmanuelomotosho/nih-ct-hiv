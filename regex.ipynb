{
 "cells": [
  {
   "cell_type": "code",
   "execution_count": 1,
   "metadata": {
    "collapsed": true
   },
   "outputs": [],
   "source": [
    "import re"
   ]
  },
  {
   "cell_type": "code",
   "execution_count": 3,
   "metadata": {},
   "outputs": [],
   "source": [
    "text = \"\"\"Lung Cancer Patients (Groups 1 &amp; 2)\n",
    "\n",
    "Inclusion Criteria:\n",
    "\n",
    "patients with suspected, clinically diagnosed, or histologically diagnosed lung cancer. Occasionally, other cancers (including metastatic cancers to the lung) may be resected for the study as negative controls for NSCLC, as warranted by the particulars of the case.\n",
    "patients must have general medical conditions to allow them to undergo surgical resection of their primary tumor\n",
    "\n",
    "Exclusion Criteria:\n",
    "\n",
    "history of diabetes for the experimental group (surgery + glucose); patients with a history of diabetes are allowed in the control group (surgery/no glucose)\n",
    "known hepatitis C or HIV (AIDS)\n",
    "\n",
    "Healthy Subjects (Group 3)\n",
    "\n",
    "Inclusion Criteria:\n",
    "\n",
    "at least 30 years of age\n",
    "preferably be fasting for 12 hours (minimum 8 hours) prior to enrollment\n",
    "\n",
    "Exclusion Criteria:\n",
    "\n",
    "prior history of diagnosed lung cancer\n",
    "known hepatitis C or HIV (AIDS)\"\"\""
   ]
  },
  {
   "cell_type": "code",
   "execution_count": 11,
   "metadata": {},
   "outputs": [],
   "source": [
    "results = re.split(\"(^inclusion|exclusion).+$\", text, flags=re.MULTILINE | re.IGNORECASE)"
   ]
  },
  {
   "cell_type": "code",
   "execution_count": null,
   "metadata": {},
   "outputs": [],
   "source": [
    "results = [x.strip() for x in results]"
   ]
  },
  {
   "cell_type": "code",
   "execution_count": 14,
   "metadata": {},
   "outputs": [
    {
     "data": {
      "text/plain": [
       "['Lung Cancer Patients (Groups 1 &amp; 2)',\n 'Inclusion',\n 'patients with suspected, clinically diagnosed, or histologically diagnosed lung cancer. Occasionally, other cancers (including metastatic cancers to the lung) may be resected for the study as negative controls for NSCLC, as warranted by the particulars of the case.\\npatients must have general medical conditions to allow them to undergo surgical resection of their primary tumor',\n 'Exclusion',\n 'history of diabetes for the experimental group (surgery + glucose); patients with a history of diabetes are allowed in the control group (surgery/no glucose)\\nknown hepatitis C or HIV (AIDS)\\n\\nHealthy Subjects (Group 3)',\n 'Inclusion',\n 'at least 30 years of age\\npreferably be fasting for 12 hours (minimum 8 hours) prior to enrollment',\n 'Exclusion',\n 'prior history of diagnosed lung cancer\\nknown hepatitis C or HIV (AIDS)']"
      ]
     },
     "execution_count": 14,
     "metadata": {},
     "output_type": "execute_result"
    }
   ],
   "source": [
    "results"
   ]
  },
  {
   "cell_type": "code",
   "execution_count": 19,
   "metadata": {},
   "outputs": [
    {
     "data": {
      "text/plain": [
       "['history of diabetes for the experimental group (surgery + glucose); patients with a history of diabetes are allowed in the control group (surgery/no glucose)',\n 'known hepatitis C or HIV (AIDS)',\n 'Healthy Subjects (Group 3)']"
      ]
     },
     "execution_count": 19,
     "metadata": {},
     "output_type": "execute_result"
    }
   ],
   "source": [
    "re.split(r'\\n+', results[4])"
   ]
  },
  {
   "cell_type": "code",
   "execution_count": null,
   "metadata": {},
   "outputs": [],
   "source": [
    ""
   ]
  }
 ],
 "metadata": {
  "kernelspec": {
   "display_name": "Python 2",
   "language": "python",
   "name": "python2"
  },
  "language_info": {
   "codemirror_mode": {
    "name": "ipython",
    "version": 2.0
   },
   "file_extension": ".py",
   "mimetype": "text/x-python",
   "name": "python",
   "nbconvert_exporter": "python",
   "pygments_lexer": "ipython2",
   "version": "2.7.6"
  }
 },
 "nbformat": 4,
 "nbformat_minor": 0
}