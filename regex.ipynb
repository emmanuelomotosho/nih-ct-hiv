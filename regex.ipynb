{
 "cells": [
  {
   "cell_type": "code",
   "execution_count": 4,
   "metadata": {
    "collapsed": true
   },
   "outputs": [],
   "source": [
    "import re"
   ]
  },
  {
   "cell_type": "code",
   "execution_count": 3,
   "metadata": {},
   "outputs": [],
   "source": [
    "text = \"\"\"Lung Cancer Patients (Groups 1 &amp; 2)\n",
    "\n",
    "Inclusion Criteria:\n",
    "\n",
    "patients with suspected, clinically diagnosed, or histologically diagnosed lung cancer. Occasionally, other cancers (including metastatic cancers to the lung) may be resected for the study as negative controls for NSCLC, as warranted by the particulars of the case.\n",
    "patients must have general medical conditions to allow them to undergo surgical resection of their primary tumor\n",
    "\n",
    "Exclusion Criteria:\n",
    "\n",
    "history of diabetes for the experimental group (surgery + glucose); patients with a history of diabetes are allowed in the control group (surgery/no glucose)\n",
    "known hepatitis C or HIV (AIDS)\n",
    "\n",
    "Healthy Subjects (Group 3)\n",
    "\n",
    "Inclusion Criteria:\n",
    "\n",
    "at least 30 years of age\n",
    "preferably be fasting for 12 hours (minimum 8 hours) prior to enrollment\n",
    "\n",
    "Exclusion Criteria:\n",
    "\n",
    "prior history of diagnosed lung cancer\n",
    "known hepatitis C or HIV (AIDS)\"\"\""
   ]
  },
  {
   "cell_type": "code",
   "execution_count": 11,
   "metadata": {},
   "outputs": [],
   "source": [
    "results = re.split(\"(^inclusion|exclusion).+$\", text, flags=re.MULTILINE | re.IGNORECASE)"
   ]
  },
  {
   "cell_type": "code",
   "execution_count": null,
   "metadata": {},
   "outputs": [],
   "source": [
    "results = [x.strip() for x in results]"
   ]
  },
  {
   "cell_type": "code",
   "execution_count": 14,
   "metadata": {},
   "outputs": [
    {
     "data": {
      "text/plain": [
       "['Lung Cancer Patients (Groups 1 &amp; 2)',\n 'Inclusion',\n 'patients with suspected, clinically diagnosed, or histologically diagnosed lung cancer. Occasionally, other cancers (including metastatic cancers to the lung) may be resected for the study as negative controls for NSCLC, as warranted by the particulars of the case.\\npatients must have general medical conditions to allow them to undergo surgical resection of their primary tumor',\n 'Exclusion',\n 'history of diabetes for the experimental group (surgery + glucose); patients with a history of diabetes are allowed in the control group (surgery/no glucose)\\nknown hepatitis C or HIV (AIDS)\\n\\nHealthy Subjects (Group 3)',\n 'Inclusion',\n 'at least 30 years of age\\npreferably be fasting for 12 hours (minimum 8 hours) prior to enrollment',\n 'Exclusion',\n 'prior history of diagnosed lung cancer\\nknown hepatitis C or HIV (AIDS)']"
      ]
     },
     "execution_count": 14,
     "metadata": {},
     "output_type": "execute_result"
    }
   ],
   "source": [
    "results"
   ]
  },
  {
   "cell_type": "code",
   "execution_count": 19,
   "metadata": {},
   "outputs": [
    {
     "data": {
      "text/plain": [
       "['history of diabetes for the experimental group (surgery + glucose); patients with a history of diabetes are allowed in the control group (surgery/no glucose)',\n 'known hepatitis C or HIV (AIDS)',\n 'Healthy Subjects (Group 3)']"
      ]
     },
     "execution_count": 19,
     "metadata": {},
     "output_type": "execute_result"
    }
   ],
   "source": [
    "re.split(r'\\n+', results[4])"
   ]
  },
  {
   "cell_type": "code",
   "execution_count": 27,
   "metadata": {},
   "outputs": [],
   "source": [
    "colontext = \"\"\"PATIENT CHARACTERISTICS: Age: 18 to 65 Performance status: Zubrod 0-1 Life expectancy: Not specified Hematopoietic: WBC greater than 3,000/mm3 Platelet count greater than 100,000/mm3 No hematopoietic growth factor treatments Hepatic: Bilirubin, SGOT, and SGPT less than 2 times normal Renal: Estimated creatinine clearance greater than 60 mL/min Cardiovascular: Normal ejection fraction Pulmonary: DLCO greater than 50% of predicted Other: Not HIV positive Not pregnant 2 weeks prior to study No comorbid condition placing patient at high risk for complications No prior active infections No history of untreated central nervous system (CNS) disease No allergic response to eggs or murine protein\"\"\""
   ]
  },
  {
   "cell_type": "code",
   "execution_count": 28,
   "metadata": {},
   "outputs": [
    {
     "data": {
      "text/plain": [
       "['',\n 'PATIENT CHARACTERISTICS: ',\n '',\n 'Age: ',\n '',\n '18 to 65 Performance status: ',\n '',\n 'Zubrod 0-1 Life expectancy: ',\n '',\n 'Not specified Hematopoietic: ',\n '',\n 'WBC greater than 3,000/mm3 Platelet count greater than 100,000/mm3 No hematopoietic growth factor treatments Hepatic: ',\n '',\n 'Bilirubin, SGOT, and SGPT less than 2 times normal Renal: ',\n '',\n 'Estimated creatinine clearance greater than 60 mL/min Cardiovascular: ',\n '',\n 'Normal ejection fraction Pulmonary: ',\n '',\n 'DLCO greater than 50% of predicted Other: ',\n 'Not HIV positive Not pregnant 2 weeks prior to study No comorbid condition placing patient at high risk for complications No prior active infections No history of untreated central nervous system (CNS) disease No allergic response to eggs or murine protein']"
      ]
     },
     "execution_count": 28,
     "metadata": {},
     "output_type": "execute_result"
    }
   ],
   "source": [
    "re.split('(.+?: +)', colontext, flags=re.IGNORECASE)"
   ]
  },
  {
   "cell_type": "code",
   "execution_count": 26,
   "metadata": {},
   "outputs": [
    {
     "data": {
      "text/plain": [
       "['Hi']"
      ]
     },
     "execution_count": 26,
     "metadata": {},
     "output_type": "execute_result"
    }
   ],
   "source": [
    "re.split('(.+?: +)', \"Hi\", flags=re.IGNORECASE)"
   ]
  },
  {
   "cell_type": "code",
   "execution_count": null,
   "metadata": {},
   "outputs": [],
   "source": [
    "text = \"\"\"No other serious medical or psychiatric disease Not pregnant No prior/concurrent malignancy except basal cell carcinoma of the skin or carcinoma in situ of the cervix HIV negative OR asymptomatic for HIV disease\"\"\""
   ]
  },
  {
   "cell_type": "code",
   "execution_count": 8,
   "metadata": {},
   "outputs": [],
   "source": [
    "re.search(r'(HIV|human immunodeficiency virus)[A-Z0-9 -,]+?(HAART|retroviral)[A-Z0-9 -,]+?(in|not )eligible', text)"
   ]
  },
  {
   "cell_type": "code",
   "execution_count": null,
   "metadata": {},
   "outputs": [],
   "source": [
    "text = \"No risk of HIV transmission\""
   ]
  },
  {
   "cell_type": "code",
   "execution_count": 6,
   "metadata": {},
   "outputs": [
    {
     "data": {
      "text/plain": [
       "<_sre.SRE_Match object; span=(0, 14), match='No risk of HIV'>"
      ]
     },
     "execution_count": 6,
     "metadata": {},
     "output_type": "execute_result"
    }
   ],
   "source": [
    "re.search(r'no risk of[A-Z -,]+(HIV|human immunodeficiency virus)', text, flags=re.IGNORECASE)"
   ]
  },
  {
   "cell_type": "code",
   "execution_count": null,
   "metadata": {},
   "outputs": [],
   "source": [
    "text = \"Human immunodeficiency virus (HIV)-positive patients on combination antiretroviral therapy\""
   ]
  },
  {
   "cell_type": "code",
   "execution_count": null,
   "metadata": {},
   "outputs": [],
   "source": [
    "re.search(r'(HIV|human immunodeficiency virus)[A-Z0-9 -,]+?(HAART|retroviral)[A-Z0-9 -,]+?(in|not )eligibl"
   ]
  }
 ],
 "metadata": {
  "kernelspec": {
   "display_name": "Python 2",
   "language": "python",
   "name": "python2"
  },
  "language_info": {
   "codemirror_mode": {
    "name": "ipython",
    "version": 2.0
   },
   "file_extension": ".py",
   "mimetype": "text/x-python",
   "name": "python",
   "nbconvert_exporter": "python",
   "pygments_lexer": "ipython2",
   "version": "2.7.6"
  }
 },
 "nbformat": 4,
 "nbformat_minor": 0
}